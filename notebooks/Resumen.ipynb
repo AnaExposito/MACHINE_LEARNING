{
 "cells": [
  {
   "cell_type": "markdown",
   "id": "d48d7833",
   "metadata": {},
   "source": [
    "PRESENTACION"
   ]
  },
  {
   "cell_type": "markdown",
   "id": "09daec0d",
   "metadata": {},
   "source": [
    "Este dataset contiene un registro detallado de los Juegos Olímpicos desde 1896 hasta 2016, abarcando información sobre cada atleta participante, los eventos en los que compitieron y sus resultados, incluyendo si ganaron una medalla"
   ]
  },
  {
   "cell_type": "markdown",
   "id": "a0022c26",
   "metadata": {},
   "source": [
    "Cuenta con más de 270.000 registros y aproximadamente 15 columnas originales, superando con creces los requisitos de tamaño para este proyecto"
   ]
  },
  {
   "cell_type": "markdown",
   "id": "6c3ddb66",
   "metadata": {},
   "source": [
    "----"
   ]
  },
  {
   "cell_type": "markdown",
   "id": "dc930629",
   "metadata": {},
   "source": [
    "DATOS"
   ]
  },
  {
   "cell_type": "markdown",
   "id": "c6adfb9e",
   "metadata": {},
   "source": [
    "Variable objetivo es la columna Medal.\n",
    "Valores: \"Originalmente, contiene 'Gold', 'Silver', Bronze' y valores nulos (NaN) para los atletas que no obtuvieron medalla."
   ]
  },
  {
   "cell_type": "markdown",
   "id": "bf6087ce",
   "metadata": {},
   "source": [
    "----"
   ]
  },
  {
   "cell_type": "markdown",
   "id": "670ce961",
   "metadata": {},
   "source": [
    "**OBTENCION DE LOS DATOS\n"
   ]
  },
  {
   "cell_type": "markdown",
   "id": "4b5c11fa",
   "metadata": {},
   "source": [
    "https://www.kaggle.com/datasets/heesoo37/120-years-of-olympic-history-athletes-and-results?select=athlete_events.csv"
   ]
  }
 ],
 "metadata": {
  "language_info": {
   "name": "python"
  }
 },
 "nbformat": 4,
 "nbformat_minor": 5
}
